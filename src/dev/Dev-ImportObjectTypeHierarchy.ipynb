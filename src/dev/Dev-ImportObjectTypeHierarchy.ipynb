{
 "cells": [
  {
   "cell_type": "code",
   "execution_count": null,
   "metadata": {},
   "outputs": [],
   "source": [
    "from pathlib import Path\n",
    "import anytruth.ops_labeldb as atops\n",
    "\n",
    "dicCln:dict = {\n",
    "    \"sPath\": r\"[path]\\assets\\objects\\classes\",\n",
    "    \"lCollectionHierarchy\": [ \"Objects\" ],\n",
    "\n",
    "}\n",
    "\n",
    "pathTop: Path = Path(r\"[path]\\assets\\objects\\classes\")\n",
    "\n",
    "dicTypeCfg = atops.GetTypeDictFromFolderHierarchy(pathTop)\n",
    "print(dicTypeCfg)\n"
   ]
  }
 ],
 "metadata": {
  "kernelspec": {
   "display_name": "Python 3.10.6 ('cath3')",
   "language": "python",
   "name": "python3"
  },
  "language_info": {
   "codemirror_mode": {
    "name": "ipython",
    "version": 3
   },
   "file_extension": ".py",
   "mimetype": "text/x-python",
   "name": "python",
   "nbconvert_exporter": "python",
   "pygments_lexer": "ipython3",
   "version": "3.10.6"
  },
  "orig_nbformat": 4,
  "vscode": {
   "interpreter": {
    "hash": "d144e52b91e679811e4cceb0036205285e180e4be0ba7d3643a3ec09e4fe9f87"
   }
  }
 },
 "nbformat": 4,
 "nbformat_minor": 2
}
